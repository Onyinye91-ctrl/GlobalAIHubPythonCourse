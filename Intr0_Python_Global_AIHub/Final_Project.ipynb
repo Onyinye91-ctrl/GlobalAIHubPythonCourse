{
 "cells": [
  {
   "cell_type": "markdown",
   "metadata": {},
   "source": [
    "## Final Project\n",
    "\n",
    "* Company Management System. Determine the names and ages of employees, company managers and the languages they can speak. Then write a program that will print the languages that any of the employees can speak. In this project, complete the project by creating two classes named employees and managers"
   ]
  },
  {
   "cell_type": "code",
   "execution_count": 1,
   "metadata": {},
   "outputs": [],
   "source": [
    "#Class Employees\n",
    "\n",
    "class Employees():\n",
    "    def __init__(self, name, age):\n",
    "        self.name = name\n",
    "        self.age = age\n",
    "        self.language = []\n",
    "        \n",
    "    def print_name(self):\n",
    "        print(\"Hello\",self.name)\n",
    "    \n",
    "    def print_age(self):\n",
    "        print(self.age)\n",
    "        \n",
    "    def add_lang(self,new_lang):\n",
    "        print(\"Adding new language:\", new_lang)\n",
    "        self.language.append(new_lang)\n",
    "        \n",
    "    def print_info(self):\n",
    "        print(f'Meet {self.name}, Age: {self.age} and He/She speaks {self.language}')\n",
    "        #print(\"{} is {} years old\".format(self.name,self.age))\n",
    "        #print(\"He can speak:\")\n",
    "#         for i in self.language:\n",
    "#               print(i)"
   ]
  },
  {
   "cell_type": "code",
   "execution_count": 2,
   "metadata": {},
   "outputs": [
    {
     "name": "stdout",
     "output_type": "stream",
     "text": [
      "Hello David\n",
      "33\n"
     ]
    }
   ],
   "source": [
    "employee1 = Employees(\"David\", 33)\n",
    "employee1.print_name()\n",
    "employee1.print_age()"
   ]
  },
  {
   "cell_type": "code",
   "execution_count": 3,
   "metadata": {},
   "outputs": [
    {
     "name": "stdout",
     "output_type": "stream",
     "text": [
      "Hello David\n",
      "33\n",
      "Adding new language: Spanish\n"
     ]
    }
   ],
   "source": [
    "employee1.print_name()\n",
    "employee1.print_age()\n",
    "employee1.add_lang(\"Spanish\")"
   ]
  },
  {
   "cell_type": "code",
   "execution_count": 4,
   "metadata": {},
   "outputs": [
    {
     "name": "stdout",
     "output_type": "stream",
     "text": [
      "Adding new language: French\n",
      "Meet David, Age: 33 and He/She speaks ['Spanish', 'French']\n"
     ]
    }
   ],
   "source": [
    "employee1.add_lang(\"French\")\n",
    "employee1.print_info()"
   ]
  },
  {
   "cell_type": "code",
   "execution_count": 5,
   "metadata": {},
   "outputs": [
    {
     "name": "stdout",
     "output_type": "stream",
     "text": [
      "Adding new language: ['Turkish', 'English']\n",
      "Meet Linda Rice, Age: 27 and He/She speaks [['Turkish', 'English']]\n"
     ]
    }
   ],
   "source": [
    "employee2 = Employees(\"Linda Rice\", 27)\n",
    "employee2.add_lang([\"Turkish\", \"English\"])\n",
    "#employee2.print_lang(\"English\")\n",
    "employee2.print_info()"
   ]
  },
  {
   "cell_type": "code",
   "execution_count": 6,
   "metadata": {},
   "outputs": [],
   "source": [
    "#Class Managers\n",
    "\n",
    "class Managers():\n",
    "    def __init__(self, name, age):\n",
    "        self.name = name\n",
    "        self.age = age\n",
    "        self.language = []\n",
    "        \n",
    "    def print_name(self):\n",
    "        print(\"Hello\",self.name)\n",
    "    \n",
    "    def print_age(self):\n",
    "        print(self.age)\n",
    "        \n",
    "    def add_lang(self,new_lang):\n",
    "        print(\"Adding new language:\", new_lang)\n",
    "        self.language.append(new_lang)\n",
    "        \n",
    "    def print_info(self):\n",
    "        print(f'Meet {self.name}, Age: {self.age}. He/She speaks {self.language}')"
   ]
  },
  {
   "cell_type": "code",
   "execution_count": 7,
   "metadata": {},
   "outputs": [
    {
     "name": "stdout",
     "output_type": "stream",
     "text": [
      "Hello Sarah Tuana\n",
      "33\n"
     ]
    }
   ],
   "source": [
    "manager1 = Managers(\"Sarah Tuana\", 33)\n",
    "manager1.print_name()\n",
    "manager1.print_age()"
   ]
  },
  {
   "cell_type": "code",
   "execution_count": 8,
   "metadata": {},
   "outputs": [
    {
     "name": "stdout",
     "output_type": "stream",
     "text": [
      "Adding new language: German\n",
      "Meet Sarah Tuana, Age: 33. He/She speaks ['German']\n"
     ]
    }
   ],
   "source": [
    "manager1.add_lang(\"German\")\n",
    "manager1.print_info()"
   ]
  },
  {
   "cell_type": "code",
   "execution_count": 9,
   "metadata": {},
   "outputs": [
    {
     "name": "stdout",
     "output_type": "stream",
     "text": [
      "Adding new language: Chinese\n",
      "Meet Sarah Tuana, Age: 33. He/She speaks ['German', 'Chinese']\n"
     ]
    }
   ],
   "source": [
    "manager1.add_lang(\"Chinese\")\n",
    "manager1.print_info()"
   ]
  },
  {
   "cell_type": "code",
   "execution_count": null,
   "metadata": {},
   "outputs": [],
   "source": []
  }
 ],
 "metadata": {
  "kernelspec": {
   "display_name": "Python 3",
   "language": "python",
   "name": "python3"
  },
  "language_info": {
   "codemirror_mode": {
    "name": "ipython",
    "version": 3
   },
   "file_extension": ".py",
   "mimetype": "text/x-python",
   "name": "python",
   "nbconvert_exporter": "python",
   "pygments_lexer": "ipython3",
   "version": "3.7.6"
  }
 },
 "nbformat": 4,
 "nbformat_minor": 4
}
