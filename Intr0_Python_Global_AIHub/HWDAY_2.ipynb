{
 "cells": [
  {
   "cell_type": "markdown",
   "metadata": {},
   "source": [
    "## DAY 2\n",
    "* Create a list and swap the second half of the list with the first half of the list and print the list on the screen\n",
    "* Ask the user to input a single digit integer to a variable 'n'. Then print out all the even number from 0 to n (including n)"
   ]
  },
  {
   "cell_type": "code",
   "execution_count": 10,
   "metadata": {},
   "outputs": [
    {
     "name": "stdout",
     "output_type": "stream",
     "text": [
      "[5, 6, 7, 8, 1, 2, 3, 4]\n"
     ]
    }
   ],
   "source": [
    "#Solution Question 1\n",
    "\n",
    "list1 = [1, 2, 3, 4, 5, 6, 7, 8]\n",
    "list1[0:4] = [5, 6, 7, 8]\n",
    "list1[4:] = [1, 2, 3, 4]\n",
    "print(list1)"
   ]
  },
  {
   "cell_type": "code",
   "execution_count": 11,
   "metadata": {},
   "outputs": [
    {
     "name": "stdout",
     "output_type": "stream",
     "text": [
      "Enter a Digit:11\n",
      "0 2 4 6 8 10 "
     ]
    }
   ],
   "source": [
    "#Solution Question 2\n",
    "\n",
    "list1 = int(input(\"Enter a Digit:\"))\n",
    "for num in range(0, num +1):\n",
    "    if (num % 2) == 0:\n",
    "        print(num, end = \" \")"
   ]
  },
  {
   "cell_type": "code",
   "execution_count": null,
   "metadata": {},
   "outputs": [],
   "source": []
  }
 ],
 "metadata": {
  "kernelspec": {
   "display_name": "Python 3",
   "language": "python",
   "name": "python3"
  },
  "language_info": {
   "codemirror_mode": {
    "name": "ipython",
    "version": 3
   },
   "file_extension": ".py",
   "mimetype": "text/x-python",
   "name": "python",
   "nbconvert_exporter": "python",
   "pygments_lexer": "ipython3",
   "version": "3.7.6"
  }
 },
 "nbformat": 4,
 "nbformat_minor": 4
}
