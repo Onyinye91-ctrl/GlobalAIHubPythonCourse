{
 "cells": [
  {
   "cell_type": "markdown",
   "metadata": {},
   "source": [
    "### Assignment Day 3. \n",
    "User login application:\n",
    "* Get Username and Password values from the user\n",
    "* Check the values in an if statement and tell user if they were successful\n",
    "\n",
    "Extra\n",
    "* Try building the same login application but this time, use a dictionary."
   ]
  },
  {
   "cell_type": "code",
   "execution_count": 1,
   "metadata": {},
   "outputs": [
    {
     "name": "stdout",
     "output_type": "stream",
     "text": [
      "Please Enter your Username: Sandra\n",
      "Please Enter your Password: Taken1234\n",
      "Welcome Sandra. You have Successfully logged In\n"
     ]
    }
   ],
   "source": [
    "#User login System\n",
    "\n",
    "Username = \"Sandra\"\n",
    "Password = \"Taken1234\"\n",
    "\n",
    "user_name = input(\"Please Enter your Username: \")\n",
    "pass_word = input(\"Please Enter your Password: \")\n",
    "\n",
    "if (Username == user_name and Password == pass_word):\n",
    "  print(\"Welcome \" + Username + \". You have Successfully logged In\")\n",
    "elif (Username != user_name and Password == pass_word):\n",
    "  print(\"Invalid Username\")\n",
    "elif (Username == user_name and Password != pass_word):\n",
    "  print(\"Invalid Password\")\n",
    "else:\n",
    "  print(\"Enter Your Username and Password\")"
   ]
  },
  {
   "cell_type": "code",
   "execution_count": 2,
   "metadata": {},
   "outputs": [
    {
     "name": "stdout",
     "output_type": "stream",
     "text": [
      "Please Enter your Username: Sandra\n",
      "Please Enter your Password: Taken1234\n",
      "Welcome Sandra. You have Successfully logged In\n"
     ]
    }
   ],
   "source": [
    "#User login System using a Dictionary\n",
    "\n",
    "Username = \"Sandra\"\n",
    "Password = \"Taken1234\"\n",
    "\n",
    "user_name = input(\"Please Enter your Username: \")\n",
    "pass_word = input(\"Please Enter your Password: \")\n",
    "\n",
    "if (Username == user_name and Password == pass_word):\n",
    "  print(\"Welcome \" + Username + \". You have Successfully logged In\")\n",
    "elif (Username != user_name and Password == pass_word):\n",
    "  print(\"Invalid Username\")\n",
    "elif (Username == user_name and Password != pass_word):\n",
    "  print(\"Invalid Password\")\n",
    "else:\n",
    "  print(\"Enter Your Username and Password\")\n"
   ]
  },
  {
   "cell_type": "code",
   "execution_count": null,
   "metadata": {},
   "outputs": [],
   "source": []
  }
 ],
 "metadata": {
  "kernelspec": {
   "display_name": "Python 3",
   "language": "python",
   "name": "python3"
  },
  "language_info": {
   "codemirror_mode": {
    "name": "ipython",
    "version": 3
   },
   "file_extension": ".py",
   "mimetype": "text/x-python",
   "name": "python",
   "nbconvert_exporter": "python",
   "pygments_lexer": "ipython3",
   "version": "3.7.6"
  }
 },
 "nbformat": 4,
 "nbformat_minor": 4
}
