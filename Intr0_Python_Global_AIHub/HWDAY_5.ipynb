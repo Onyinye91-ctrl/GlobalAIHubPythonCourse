{
 "cells": [
  {
   "cell_type": "markdown",
   "metadata": {},
   "source": [
    "## DAY 5\n",
    "* Create three Classes name Animals, Dog and Cat. Add some features to these classes. Create some functions with the attributes. Don't forget, You have to iy using inheritance"
   ]
  },
  {
   "cell_type": "code",
   "execution_count": 1,
   "metadata": {},
   "outputs": [],
   "source": [
    "class Animals:\n",
    "    def __init__(self, name, age, color):\n",
    "        self.name = name\n",
    "        self.age = age\n",
    "        self.color = color\n",
    "    \n",
    "    def print_name(self):\n",
    "        print(self.name + \" is \" + str(self.age) + \" years old today\")\n",
    "    \n",
    "    def print_color(self):\n",
    "        print(self.name + \" is \" + self.color)"
   ]
  },
  {
   "cell_type": "code",
   "execution_count": 2,
   "metadata": {},
   "outputs": [],
   "source": [
    "class Dog(Animals):\n",
    "    pass"
   ]
  },
  {
   "cell_type": "code",
   "execution_count": 3,
   "metadata": {},
   "outputs": [
    {
     "name": "stdout",
     "output_type": "stream",
     "text": [
      "<__main__.Dog object at 0x00000205477676C8>\n"
     ]
    }
   ],
   "source": [
    "Dog1 = Dog(\"Tom\", 10, \"Brown\")\n",
    "print(Dog1)"
   ]
  },
  {
   "cell_type": "code",
   "execution_count": 4,
   "metadata": {},
   "outputs": [
    {
     "name": "stdout",
     "output_type": "stream",
     "text": [
      "Tom is 10 years old today\n"
     ]
    }
   ],
   "source": [
    "Dog1.print_name()"
   ]
  },
  {
   "cell_type": "code",
   "execution_count": 5,
   "metadata": {},
   "outputs": [
    {
     "name": "stdout",
     "output_type": "stream",
     "text": [
      "Tom is Brown\n"
     ]
    }
   ],
   "source": [
    "Dog1.print_color()"
   ]
  },
  {
   "cell_type": "code",
   "execution_count": 10,
   "metadata": {},
   "outputs": [],
   "source": [
    "class Cat(Animals):\n",
    "    def __init__(self, height, price):\n",
    "        self.height = height\n",
    "        self.price = price\n",
    "        \n",
    "    def print_price(self):\n",
    "        print(self.name + \" is \" + str(self.height) + \" and is sold for \" + str(self.price))\n",
    "        \n",
    "        \n",
    "Cat1 = Cat(11, '$5')\n",
    "Cat1.name = \"Jerry\"\n",
    "Cat1.color = \"White\"\n",
    "Cat1.age = 5"
   ]
  },
  {
   "cell_type": "code",
   "execution_count": 11,
   "metadata": {},
   "outputs": [
    {
     "name": "stdout",
     "output_type": "stream",
     "text": [
      "Jerry is 5 years old today\n"
     ]
    }
   ],
   "source": [
    "Cat1.print_name()"
   ]
  },
  {
   "cell_type": "code",
   "execution_count": 12,
   "metadata": {},
   "outputs": [
    {
     "name": "stdout",
     "output_type": "stream",
     "text": [
      "Jerry is White\n"
     ]
    }
   ],
   "source": [
    "Cat1.print_color()"
   ]
  },
  {
   "cell_type": "code",
   "execution_count": 13,
   "metadata": {},
   "outputs": [
    {
     "name": "stdout",
     "output_type": "stream",
     "text": [
      "Jerry is 11 and is sold for $5\n"
     ]
    }
   ],
   "source": [
    "Cat1.print_price()"
   ]
  },
  {
   "cell_type": "code",
   "execution_count": null,
   "metadata": {},
   "outputs": [],
   "source": []
  }
 ],
 "metadata": {
  "kernelspec": {
   "display_name": "Python 3",
   "language": "python",
   "name": "python3"
  },
  "language_info": {
   "codemirror_mode": {
    "name": "ipython",
    "version": 3
   },
   "file_extension": ".py",
   "mimetype": "text/x-python",
   "name": "python",
   "nbconvert_exporter": "python",
   "pygments_lexer": "ipython3",
   "version": "3.7.6"
  }
 },
 "nbformat": 4,
 "nbformat_minor": 4
}
